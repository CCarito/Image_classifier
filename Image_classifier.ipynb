{
  "nbformat": 4,
  "nbformat_minor": 0,
  "metadata": {
    "colab": {
      "provenance": [],
      "authorship_tag": "ABX9TyNIjLpLWdbuH0A+d0SuoVVO",
      "include_colab_link": true
    },
    "kernelspec": {
      "name": "python3",
      "display_name": "Python 3"
    },
    "language_info": {
      "name": "python"
    }
  },
  "cells": [
    {
      "cell_type": "markdown",
      "metadata": {
        "id": "view-in-github",
        "colab_type": "text"
      },
      "source": [
        "<a href=\"https://colab.research.google.com/github/CCarito/Image_classifier/blob/main/Image_classifier.ipynb\" target=\"_parent\"><img src=\"https://colab.research.google.com/assets/colab-badge.svg\" alt=\"Open In Colab\"/></a>"
      ]
    },
    {
      "cell_type": "markdown",
      "source": [
        "# Challenge: Image classifier"
      ],
      "metadata": {
        "id": "YbBQJTJZ8oik"
      }
    },
    {
      "cell_type": "markdown",
      "source": [
        "Image labeling is a daunting task. That's why scientists have been trying to improve methods for automatic image classification due to its practical applications. At the Pozuelo de Alarcón post office, they want to implement a model that can classify letters according to the postal code written on them. To achieve this, we will create a classifier that, by reading a handwritten number, can determine what it is. This classifier will work by using a training set to find a plane that separates different classes arranged in an n-dimensional space based on their characteristics.\n",
        "\n",
        "We will use the \"load_digits\" dataset and the library set found in scikit-learn to address the following issues:\n",
        "\n",
        "1 - Create a classifier that can determine what number an image represents. Make at least two configurations and draw a table showing the accuracy of the classifications.\n",
        "\n",
        "2 - Choose 5 numbers that you have not used to train or evaluate the model, and classify them. Use the best performing model from the previous step. Indicate the error rate at which the classifier worked."
      ],
      "metadata": {
        "id": "VbvADALh8vOU"
      }
    },
    {
      "cell_type": "markdown",
      "source": [
        "## Model selection"
      ],
      "metadata": {
        "id": "T5Kk09mUE3g0"
      }
    },
    {
      "cell_type": "markdown",
      "source": [
        "For the described problem, a decision tree-based model or support vector machines (SVM) can be effective. Both are suitable for data classification and can handle multiple features for classification, as required in the problem.\n",
        "\n",
        "Rule-based models can be useful in situations where features are very specific and easy to define in terms of clear rules, but in this case, there may be a lot of variability in how numbers are written, which could make it difficult to define precise rules.\n",
        "\n",
        "K-nearest-neighbors and Bayesian networks algorithms can also be useful in data classification, but in this case, due to the nature of the features and the complexity of the problem, it is suggested to use a decision tree or SVM."
      ],
      "metadata": {
        "id": "vbQTWo60E9pF"
      }
    },
    {
      "cell_type": "markdown",
      "source": [
        "### Installation"
      ],
      "metadata": {
        "id": "mHTMTs5_0Rmk"
      }
    },
    {
      "cell_type": "code",
      "source": [
        "!pip install sklearn\n",
        "!pip install numpy\n",
        "!pip install matplotlib"
      ],
      "metadata": {
        "id": "3WdRPsO4PGPL"
      },
      "execution_count": null,
      "outputs": []
    },
    {
      "cell_type": "markdown",
      "source": [
        "### Libraries"
      ],
      "metadata": {
        "id": "IFvWIRYP0VPN"
      }
    },
    {
      "cell_type": "code",
      "source": [
        "from sklearn.datasets import load_digits\n",
        "from sklearn.model_selection import train_test_split\n",
        "from sklearn.metrics import accuracy_score\n",
        "import numpy as np\n",
        "import matplotlib.pyplot as plt"
      ],
      "metadata": {
        "id": "QOANSLA_0ZvM"
      },
      "execution_count": null,
      "outputs": []
    },
    {
      "cell_type": "markdown",
      "source": [
        "### To import a dataset and display its contents"
      ],
      "metadata": {
        "id": "UzSPXEfv0cyn"
      }
    },
    {
      "cell_type": "code",
      "source": [
        "# Step 1: Load the \"load_digits\" dataset from the scikit-learn library\n",
        "digits = load_digits()\n",
        "\n",
        "# Selecting the first 15 images from the dataset\n",
        "images = digits.images[:15]\n",
        "\n",
        "# To print the images\n",
        "fig, ax = plt.subplots(3, 5, figsize=(8, 4))\n",
        "for i, axi in enumerate(ax.flat):\n",
        "    axi.imshow(images[i], cmap='gray')\n",
        "    axi.set(xticks=[], yticks=[])\n",
        "    axi.set_xlabel(digits.target[i])\n",
        "plt.show()"
      ],
      "metadata": {
        "colab": {
          "base_uri": "https://localhost:8080/",
          "height": 364
        },
        "id": "AZhzOv6F0jcJ",
        "outputId": "1621fd5c-3010-4786-ecfc-10b510004bca"
      },
      "execution_count": null,
      "outputs": [
        {
          "output_type": "display_data",
          "data": {
            "text/plain": [
              "<Figure size 800x400 with 15 Axes>"
            ],
            "image/png": "[encoded data removed]"
          },
          "metadata": {}
        }
      ]
    },
    {
      "cell_type": "code",
      "source": [
        "# Step 2: Split the dataset into a training set, a test set, and a validation set\n",
        "X_train, x_test, y_train, y_test = train_test_split(digits.data, digits.target, test_size=0.2, train_size = 0.8, random_state=42)\n",
        "\"\"\"\n",
        "X_train = Conjunto de datos para el entrenamiento,\n",
        "X_test  = Conjunto de datos para realizar el test,\n",
        "y_train = Conjunto de etiquetas para el entrenamiento,\n",
        "y_test  = Conjunto de etiquetas de prueba.\"\"\"\n",
        "\n",
        "X_test, X_val, y_test, y_val = train_test_split(x_test, y_test, test_size=0.2, train_size=0.8, random_state=42)"
      ],
      "metadata": {
        "id": "vsGjvddPDV-x"
      },
      "execution_count": null,
      "outputs": []
    },
    {
      "cell_type": "code",
      "source": [
        "# Select the first 10 images from the training set\n",
        "images = X_train[:10]\n",
        "\n",
        "# Print the images\n",
        "fig, ax = plt.subplots(2, 5, figsize=(8, 4))\n",
        "for i, axi in enumerate(ax.flat):\n",
        "    axi.imshow(images[i].reshape(8,8), cmap='gray') # Resize the image to 8x8 and apply the color map 'gray'\n",
        "    axi.set(xticks=[], yticks=[]) # Remove x and y axes\n",
        "    axi.set_xlabel(y_train[i]) # Add the target label as the title\n",
        "plt.show()"
      ],
      "metadata": {
        "colab": {
          "base_uri": "https://localhost:8080/",
          "height": 331
        },
        "id": "9PgDZiTSDccY",
        "outputId": "d1d3ed74-e83a-482b-e3ea-0f64380cf1aa"
      },
      "execution_count": null,
      "outputs": [
        {
          "output_type": "display_data",
          "data": {
            "text/plain": [
              "<Figure size 800x400 with 10 Axes>"
            ],
            "image/png": "[encoded data removed]"
          },
          "metadata": {}
        }
      ]
    },
    {
      "cell_type": "code",
      "source": [
        "# Select the first 10 images from the testing set\n",
        "images = X_test[:10]\n",
        "\n",
        "# Print the images\n",
        "fig, ax = plt.subplots(2, 5, figsize=(8, 4))\n",
        "for i, axi in enumerate(ax.flat):\n",
        "    axi.imshow(images[i].reshape(8,8), cmap='gray') # Resize the image to 8x8 and apply the color map 'gray'\n",
        "    axi.set(xticks=[], yticks=[]) # Remove x and y axes\n",
        "    axi.set_xlabel(y_train[i]) # Add the target label as the title\n",
        "plt.show()"
      ],
      "metadata": {
        "colab": {
          "base_uri": "https://localhost:8080/",
          "height": 331
        },
        "id": "D1ksftcWDhPn",
        "outputId": "13e3788f-1992-4250-ceec-213ee716a4e2"
      },
      "execution_count": null,
      "outputs": [
        {
          "output_type": "display_data",
          "data": {
            "text/plain": [
              "<Figure size 800x400 with 10 Axes>"
            ],
            "image/png": "[encoded data removed]"
          },
          "metadata": {}
        }
      ]
    },
    {
      "cell_type": "code",
      "source": [
        "print(y_train)"
      ],
      "metadata": {
        "colab": {
          "base_uri": "https://localhost:8080/"
        },
        "id": "T965FaYWDrw8",
        "outputId": "060def3b-884a-498e-c32b-e4886626688e"
      },
      "execution_count": null,
      "outputs": [
        {
          "output_type": "stream",
          "name": "stdout",
          "text": [
            "[6 0 0 ... 2 7 1]\n"
          ]
        }
      ]
    },
    {
      "cell_type": "code",
      "source": [
        "print(y_test)"
      ],
      "metadata": {
        "colab": {
          "base_uri": "https://localhost:8080/"
        },
        "id": "3MrfY3u6DvXx",
        "outputId": "c33362a4-63e3-4f53-df60-f3a1e1c1cc07"
      },
      "execution_count": null,
      "outputs": [
        {
          "output_type": "stream",
          "name": "stdout",
          "text": [
            "[6 9 3 7 2 1 5 2 5 2 1 9 4 0 4 2 3 7 8 8 4 3 9 7 5 6 3 5 6 3 4 9 1 4 4 6 9\n",
            " 4 7 6 6 9 1 3 6 1 3 0 6 5 5 1 9 5 6 0 9 0 0 1 0 4 5 2 4 5 7 0 7 5 9 5 5 4\n",
            " 7 0 4 5 5 9 9 0 2 3 8 0 6 4 4 9 1 2 8 3 5 2 9 0 4 4 4 3 5 3 1 3 5 9 4 2 7\n",
            " 7 4 4 1 9 2 7 8 7 2 6 9 4 0 7 2 7 5 8 7 5 7 7 0 6 6 4 2 8 0 9 4 6 9 9 6 9\n",
            " 0 3 5 6 6 0 6 4 3 9 3 9 7 2 9 0 4 5 3 6 5 9 9 8 4 2 1 3 7 7 2 2 3 9 8 0 3\n",
            " 2 2 5 6 9 9 4 1 5 4 2 3 6 4 8 5 9 5 7 8 9 4 8 1 5 4 4 9 6 1 8 6 0 4 5 2 7\n",
            " 4 6 4 5 6 0 3 2 3 6 7 1 5 1 4 7 6 8 8 5 5 1 6 2 8 8 9 9 7 6 2 2 2 3 4 8 8\n",
            " 3 6 0 9 7 7 0 1 0 4 5 1 5 3 6 0 4 1 0 0 3 6 5 9 7 3 5 5 9 9 8 5 3 3 2 0 5\n",
            " 8 3 4 0 2 4 6 4 3 4 5 0 5 2 1 3 1 4 1 1 7 0 1 5 2 1 2 8 7 0 6 4 8 8 5 1 8\n",
            " 4 5 8 7 9 8 5 0 6 2 0 7 9 8 9 5 2 7 7 1 8 7 4 3 8 3 5]\n"
          ]
        }
      ]
    },
    {
      "cell_type": "markdown",
      "source": [
        "## Decision tree model"
      ],
      "metadata": {
        "id": "9ZKXSUMLPWSM"
      }
    },
    {
      "cell_type": "code",
      "source": [
        "# Step 3: import library\n",
        "from sklearn.tree import DecisionTreeClassifier"
      ],
      "metadata": {
        "id": "XflLFfp2I9n1"
      },
      "execution_count": null,
      "outputs": []
    },
    {
      "cell_type": "code",
      "source": [
        "# Step 4: Create a \"Decision Tree\" model using the scikit-learn library\n",
        "\"\"\"class sklearn.tree.DecisionTreeClassifier(*, criterion='gini', splitter='best', max_depth=None, min_samples_split=2, \n",
        "min_samples_leaf=1, min_weight_fraction_leaf=0.0, max_features=None, random_state=None, max_leaf_nodes=None, min_impurity_decrease=0.0,\n",
        "class_weight=None, ccp_alpha=0.0)\"\"\"\n",
        "\n",
        "# Varying the input parameters can lead to different models"
      ],
      "metadata": {
        "id": "Wi4VcNGrSNqb"
      },
      "execution_count": null,
      "outputs": []
    },
    {
      "cell_type": "markdown",
      "source": [
        "### Method 1"
      ],
      "metadata": {
        "id": "bgkGNpqZlCDK"
      }
    },
    {
      "cell_type": "code",
      "source": [
        "# Step 5: Configuration and evaluation of Model 1\n",
        "model1 = DecisionTreeClassifier(criterion = 'log_loss', max_depth=5, min_samples_split=4, max_features='sqrt')\n",
        "\n",
        "# Create the classifier using the training data\n",
        "model1.fit(X_train, y_train)\n",
        "\n",
        "# Predict the class value \n",
        "y_pred1 = model1.predict(X_test)\n",
        "\n",
        "# Model accuracy\n",
        "accuracy1 = accuracy_score(y_test, y_pred1)\n",
        "print(\"Precisión del modelo: {:.2f}%\".format(accuracy1*100))"
      ],
      "metadata": {
        "colab": {
          "base_uri": "https://localhost:8080/"
        },
        "id": "QBVDSOBagBYy",
        "outputId": "64af6f9b-872d-4f0a-a9df-ac932ccc35c1"
      },
      "execution_count": null,
      "outputs": [
        {
          "output_type": "stream",
          "name": "stdout",
          "text": [
            "Precisión del modelo: 68.06%\n"
          ]
        }
      ]
    },
    {
      "cell_type": "markdown",
      "source": [
        "### Method 2"
      ],
      "metadata": {
        "id": "2hpGmkB3lGJl"
      }
    },
    {
      "cell_type": "code",
      "execution_count": null,
      "metadata": {
        "colab": {
          "base_uri": "https://localhost:8080/"
        },
        "id": "_glhKbBk3Jvj",
        "outputId": "29163d16-c7d5-427f-8906-e2969b2323a7"
      },
      "outputs": [
        {
          "output_type": "stream",
          "name": "stdout",
          "text": [
            "Precisión del modelo: 83.89%\n"
          ]
        }
      ],
      "source": [
        "# Paso 6: Configuration and evaluation of Model 2\n",
        "model2 = DecisionTreeClassifier(criterion = 'entropy', max_features='sqrt')\n",
        "\n",
        "# Create the classifier using the training data\n",
        "model2.fit(X_train, y_train)\n",
        "\n",
        "# Predict the class value \n",
        "y_pred2 = model2.predict(X_test)\n",
        "\n",
        "# Model accuracy\n",
        "accuracy2 = accuracy_score(y_test, y_pred2)\n",
        "print(\"Precisión del modelo: {:.2f}%\".format(accuracy2*100))"
      ]
    },
    {
      "cell_type": "markdown",
      "source": [
        "### Table"
      ],
      "metadata": {
        "id": "gT5kg8SFlN3V"
      }
    },
    {
      "cell_type": "code",
      "source": [
        "from tabulate import tabulate\n",
        "\n",
        "table = [[\"Modelo 1\", \"{:.2f}%\".format(accuracy1*100)],\n",
        "         [\"Modelo 2\", \"{:.2f}%\".format(accuracy2*100)]]\n",
        "\n",
        "headers = [\"Modelo\", \"Precisión\"]\n",
        "\n",
        "print(tabulate(table, headers, tablefmt=\"grid\"))"
      ],
      "metadata": {
        "colab": {
          "base_uri": "https://localhost:8080/"
        },
        "id": "BnpT54bZlUF9",
        "outputId": "426cceba-b1bb-4c46-987b-b421133a1694"
      },
      "execution_count": null,
      "outputs": [
        {
          "output_type": "stream",
          "name": "stdout",
          "text": [
            "+----------+-------------+\n",
            "| Modelo   | Precisión   |\n",
            "+==========+=============+\n",
            "| Modelo 1 | 68.06%      |\n",
            "+----------+-------------+\n",
            "| Modelo 2 | 83.89%      |\n",
            "+----------+-------------+\n"
          ]
        }
      ]
    },
    {
      "cell_type": "markdown",
      "source": [
        "### Model validation"
      ],
      "metadata": {
        "id": "v9bR8sQC0xL-"
      }
    },
    {
      "cell_type": "code",
      "source": [
        "# Predict the class value\n",
        "pred= model2.predict(X_val[:5])\n",
        "\n",
        "# Calculate the accuracy of the model on the validation data\n",
        "accuracy = accuracy_score(y_val[:5], pred)\n",
        "\n",
        "# Print the input image along with its prediction\n",
        "fig, axes = plt.subplots(1, 5, figsize=(10, 3))\n",
        "for i, ax in enumerate(axes):\n",
        "    ax.imshow(X_val[i].reshape(8, 8), cmap='gray')\n",
        "    ax.set_title(\"Predicción: {}\".format(pred[i]))\n",
        "plt.show()\n",
        "\n",
        "print(\"Precisión del modelo: {:.2f}%\".format(accuracy*100))\n"
      ],
      "metadata": {
        "colab": {
          "base_uri": "https://localhost:8080/",
          "height": 233
        },
        "id": "aza8XmMkP2jH",
        "outputId": "6c8a1fc4-72d3-44b2-dca2-5f1f9b75fec5"
      },
      "execution_count": null,
      "outputs": [
        {
          "output_type": "display_data",
          "data": {
            "text/plain": [
              "<Figure size 1000x300 with 5 Axes>"
            ],
            "image/png": "[encoded data removed]"
          },
          "metadata": {}
        },
        {
          "output_type": "stream",
          "name": "stdout",
          "text": [
            "Precisión del modelo: 100.00%\n"
          ]
        }
      ]
    },
    {
      "cell_type": "markdown",
      "source": [
        "## Support Vector Machines model"
      ],
      "metadata": {
        "id": "NRMRzgY5E2Wn"
      }
    },
    {
      "cell_type": "code",
      "source": [
        "# Step 3: import library\n",
        "from sklearn.svm import SVC"
      ],
      "metadata": {
        "id": "k2eb3HlIFsnm"
      },
      "execution_count": null,
      "outputs": []
    },
    {
      "cell_type": "code",
      "source": [
        "# Step 4: Create a \"Support Vector Machines\" model using the scikit-learn library\n",
        "\"\"\"class sklearn.svm.SVC(*, C=1.0, kernel='rbf', degree=3, gamma='scale', coef0=0.0, shrinking=True, probability=False, \n",
        "tol=0.001, cache_size=200, class_weight=None, verbose=False, max_iter=-1, decision_function_shape='ovr', break_ties=False, \n",
        "random_state=None)\"\"\"\n",
        "\n",
        "# Varying the input parameters can lead to different models"
      ],
      "metadata": {
        "id": "X0yNuNogG7E_"
      },
      "execution_count": null,
      "outputs": []
    },
    {
      "cell_type": "markdown",
      "source": [
        "### Method 1"
      ],
      "metadata": {
        "id": "ymsyZ8fPMTmK"
      }
    },
    {
      "cell_type": "code",
      "source": [
        "# Step 5: Configuration and evaluation of Model 1\n",
        "model1 = SVC(kernel='linear')\n",
        "\n",
        "# Create the classifier using the training data\n",
        "model1.fit(X_train, y_train)\n",
        "\n",
        "# Predict the class value \n",
        "y_pred1 = model1.predict(X_test)\n",
        "\n",
        "# Model accuracy\n",
        "accuracy1 = accuracy_score(y_test, y_pred1)\n",
        "print(\"Precisión del modelo: {:.2f}%\".format(accuracy1*100))"
      ],
      "metadata": {
        "colab": {
          "base_uri": "https://localhost:8080/"
        },
        "id": "yYcOVlxaGJxY",
        "outputId": "714b621f-6417-44b2-e158-475f28f678c8"
      },
      "execution_count": null,
      "outputs": [
        {
          "output_type": "stream",
          "name": "stdout",
          "text": [
            "Precisión del modelo: 97.92%\n"
          ]
        }
      ]
    },
    {
      "cell_type": "markdown",
      "source": [
        "### Method 2"
      ],
      "metadata": {
        "id": "hfjP7BGmMXzA"
      }
    },
    {
      "cell_type": "code",
      "source": [
        "# Step 6: Configuration and evaluation of Model 2\n",
        "model2 = SVC(kernel='poly', degree=5, shrinking=False, gamma='auto', probability=True, break_ties=True)\n",
        "\n",
        "# Create the classifier using the training data\n",
        "model2.fit(X_train, y_train)\n",
        "\n",
        "# Predict the class value  \n",
        "y_pred2 = model1.predict(X_test)\n",
        "\n",
        "# Model accuracy\n",
        "accuracy2 = accuracy_score(y_test, y_pred2)\n",
        "print(\"Precisión del modelo: {:.2f}%\".format(accuracy2*100))"
      ],
      "metadata": {
        "colab": {
          "base_uri": "https://localhost:8080/"
        },
        "id": "bGAtOAc-IUDq",
        "outputId": "f6837ed8-4885-4c49-be46-bc475d92becb"
      },
      "execution_count": null,
      "outputs": [
        {
          "output_type": "stream",
          "name": "stdout",
          "text": [
            "Precisión del modelo: 97.92%\n"
          ]
        }
      ]
    },
    {
      "cell_type": "markdown",
      "source": [
        "### Table"
      ],
      "metadata": {
        "id": "0DQ9UJwqMsAz"
      }
    },
    {
      "cell_type": "code",
      "source": [
        "from tabulate import tabulate\n",
        "\n",
        "table = [[\"Modelo 1\", \"{:.2f}%\".format(accuracy1*100)],\n",
        "         [\"Modelo 2\", \"{:.2f}%\".format(accuracy2*100)]]\n",
        "\n",
        "headers = [\"Modelo\", \"Precisión\"]\n",
        "\n",
        "print(tabulate(table, headers, tablefmt=\"grid\"))"
      ],
      "metadata": {
        "colab": {
          "base_uri": "https://localhost:8080/"
        },
        "id": "99rQm8cTMxT6",
        "outputId": "4d19ae70-62ea-44ba-da53-5443d5180a32"
      },
      "execution_count": null,
      "outputs": [
        {
          "output_type": "stream",
          "name": "stdout",
          "text": [
            "+----------+-------------+\n",
            "| Modelo   | Precisión   |\n",
            "+==========+=============+\n",
            "| Modelo 1 | 97.92%      |\n",
            "+----------+-------------+\n",
            "| Modelo 2 | 97.92%      |\n",
            "+----------+-------------+\n"
          ]
        }
      ]
    },
    {
      "cell_type": "markdown",
      "source": [
        "### Model validation"
      ],
      "metadata": {
        "id": "w45YMlN5NRMX"
      }
    },
    {
      "cell_type": "code",
      "source": [
        "# Predict the class value\n",
        "pred= model1.predict(X_val[:5])\n",
        "\n",
        "# Calculate the accuracy of the model on the validation data\n",
        "accuracy = accuracy_score(y_val[:5], pred)\n",
        "\n",
        "# Print the input image along with its prediction\n",
        "fig, axes = plt.subplots(1, 5, figsize=(10, 3))\n",
        "for i, ax in enumerate(axes):\n",
        "    ax.imshow(X_val[i].reshape(8, 8), cmap='gray')\n",
        "    ax.set_title(\"Predicción: {}\".format(pred[i]))\n",
        "plt.show()\n",
        "\n",
        "print(\"Precisión del modelo: {:.2f}%\".format(accuracy*100))"
      ],
      "metadata": {
        "colab": {
          "base_uri": "https://localhost:8080/",
          "height": 233
        },
        "id": "4IlRYJS1NTne",
        "outputId": "8448fc3b-6f1a-4d8d-c087-38684c9b0d0d"
      },
      "execution_count": null,
      "outputs": [
        {
          "output_type": "display_data",
          "data": {
            "text/plain": [
              "<Figure size 1000x300 with 5 Axes>"
            ],
            "image/png": "[encoded data removed]"
          },
          "metadata": {}
        },
        {
          "output_type": "stream",
          "name": "stdout",
          "text": [
            "Precisión del modelo: 100.00%\n"
          ]
        }
      ]
    },
    {
      "cell_type": "markdown",
      "source": [
        "## Conclusion"
      ],
      "metadata": {
        "id": "qjF5IZ2zr2Nq"
      }
    },
    {
      "cell_type": "markdown",
      "source": [
        "In conclusion, image labeling is an important and complex task that can be addressed using different classification algorithms such as decision trees and SVMs. In this case, the \"load_digits\" dataset from scikit-learn was used to train and evaluate various models, obtaining a maximum accuracy of 97.92% with linear and polynomial SVM models. Decision tree models achieved lower accuracies, with a maximum of 83.89%. Overall, SVM models seem to be more suitable for this type of image classification task."
      ],
      "metadata": {
        "id": "407BkzTJr49W"
      }
    }
  ]
}